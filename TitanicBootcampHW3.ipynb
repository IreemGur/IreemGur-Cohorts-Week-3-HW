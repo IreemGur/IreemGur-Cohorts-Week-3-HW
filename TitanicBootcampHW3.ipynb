{
 "cells": [
  {
   "cell_type": "code",
   "execution_count": 37,
   "id": "14181d15-b3ce-4aec-9a27-8fe53f72e675",
   "metadata": {},
   "outputs": [
    {
     "data": {
      "text/html": [
       "<div>\n",
       "<style scoped>\n",
       "    .dataframe tbody tr th:only-of-type {\n",
       "        vertical-align: middle;\n",
       "    }\n",
       "\n",
       "    .dataframe tbody tr th {\n",
       "        vertical-align: top;\n",
       "    }\n",
       "\n",
       "    .dataframe thead th {\n",
       "        text-align: right;\n",
       "    }\n",
       "</style>\n",
       "<table border=\"1\" class=\"dataframe\">\n",
       "  <thead>\n",
       "    <tr style=\"text-align: right;\">\n",
       "      <th></th>\n",
       "      <th>PassengerId</th>\n",
       "      <th>Survived</th>\n",
       "      <th>Pclass</th>\n",
       "      <th>Name</th>\n",
       "      <th>Sex</th>\n",
       "      <th>Age</th>\n",
       "      <th>SibSp</th>\n",
       "      <th>Parch</th>\n",
       "      <th>Ticket</th>\n",
       "      <th>Fare</th>\n",
       "      <th>Cabin</th>\n",
       "      <th>Embarked</th>\n",
       "    </tr>\n",
       "  </thead>\n",
       "  <tbody>\n",
       "    <tr>\n",
       "      <th>0</th>\n",
       "      <td>1</td>\n",
       "      <td>0</td>\n",
       "      <td>3</td>\n",
       "      <td>Braund, Mr. Owen Harris</td>\n",
       "      <td>male</td>\n",
       "      <td>22.0</td>\n",
       "      <td>1</td>\n",
       "      <td>0</td>\n",
       "      <td>A/5 21171</td>\n",
       "      <td>7.2500</td>\n",
       "      <td>NaN</td>\n",
       "      <td>S</td>\n",
       "    </tr>\n",
       "    <tr>\n",
       "      <th>1</th>\n",
       "      <td>2</td>\n",
       "      <td>1</td>\n",
       "      <td>1</td>\n",
       "      <td>Cumings, Mrs. John Bradley (Florence Briggs Th...</td>\n",
       "      <td>female</td>\n",
       "      <td>38.0</td>\n",
       "      <td>1</td>\n",
       "      <td>0</td>\n",
       "      <td>PC 17599</td>\n",
       "      <td>71.2833</td>\n",
       "      <td>C85</td>\n",
       "      <td>C</td>\n",
       "    </tr>\n",
       "    <tr>\n",
       "      <th>2</th>\n",
       "      <td>3</td>\n",
       "      <td>1</td>\n",
       "      <td>3</td>\n",
       "      <td>Heikkinen, Miss. Laina</td>\n",
       "      <td>female</td>\n",
       "      <td>26.0</td>\n",
       "      <td>0</td>\n",
       "      <td>0</td>\n",
       "      <td>STON/O2. 3101282</td>\n",
       "      <td>7.9250</td>\n",
       "      <td>NaN</td>\n",
       "      <td>S</td>\n",
       "    </tr>\n",
       "    <tr>\n",
       "      <th>3</th>\n",
       "      <td>4</td>\n",
       "      <td>1</td>\n",
       "      <td>1</td>\n",
       "      <td>Futrelle, Mrs. Jacques Heath (Lily May Peel)</td>\n",
       "      <td>female</td>\n",
       "      <td>35.0</td>\n",
       "      <td>1</td>\n",
       "      <td>0</td>\n",
       "      <td>113803</td>\n",
       "      <td>53.1000</td>\n",
       "      <td>C123</td>\n",
       "      <td>S</td>\n",
       "    </tr>\n",
       "    <tr>\n",
       "      <th>4</th>\n",
       "      <td>5</td>\n",
       "      <td>0</td>\n",
       "      <td>3</td>\n",
       "      <td>Allen, Mr. William Henry</td>\n",
       "      <td>male</td>\n",
       "      <td>35.0</td>\n",
       "      <td>0</td>\n",
       "      <td>0</td>\n",
       "      <td>373450</td>\n",
       "      <td>8.0500</td>\n",
       "      <td>NaN</td>\n",
       "      <td>S</td>\n",
       "    </tr>\n",
       "    <tr>\n",
       "      <th>...</th>\n",
       "      <td>...</td>\n",
       "      <td>...</td>\n",
       "      <td>...</td>\n",
       "      <td>...</td>\n",
       "      <td>...</td>\n",
       "      <td>...</td>\n",
       "      <td>...</td>\n",
       "      <td>...</td>\n",
       "      <td>...</td>\n",
       "      <td>...</td>\n",
       "      <td>...</td>\n",
       "      <td>...</td>\n",
       "    </tr>\n",
       "    <tr>\n",
       "      <th>886</th>\n",
       "      <td>887</td>\n",
       "      <td>0</td>\n",
       "      <td>2</td>\n",
       "      <td>Montvila, Rev. Juozas</td>\n",
       "      <td>male</td>\n",
       "      <td>27.0</td>\n",
       "      <td>0</td>\n",
       "      <td>0</td>\n",
       "      <td>211536</td>\n",
       "      <td>13.0000</td>\n",
       "      <td>NaN</td>\n",
       "      <td>S</td>\n",
       "    </tr>\n",
       "    <tr>\n",
       "      <th>887</th>\n",
       "      <td>888</td>\n",
       "      <td>1</td>\n",
       "      <td>1</td>\n",
       "      <td>Graham, Miss. Margaret Edith</td>\n",
       "      <td>female</td>\n",
       "      <td>19.0</td>\n",
       "      <td>0</td>\n",
       "      <td>0</td>\n",
       "      <td>112053</td>\n",
       "      <td>30.0000</td>\n",
       "      <td>B42</td>\n",
       "      <td>S</td>\n",
       "    </tr>\n",
       "    <tr>\n",
       "      <th>888</th>\n",
       "      <td>889</td>\n",
       "      <td>0</td>\n",
       "      <td>3</td>\n",
       "      <td>Johnston, Miss. Catherine Helen \"Carrie\"</td>\n",
       "      <td>female</td>\n",
       "      <td>NaN</td>\n",
       "      <td>1</td>\n",
       "      <td>2</td>\n",
       "      <td>W./C. 6607</td>\n",
       "      <td>23.4500</td>\n",
       "      <td>NaN</td>\n",
       "      <td>S</td>\n",
       "    </tr>\n",
       "    <tr>\n",
       "      <th>889</th>\n",
       "      <td>890</td>\n",
       "      <td>1</td>\n",
       "      <td>1</td>\n",
       "      <td>Behr, Mr. Karl Howell</td>\n",
       "      <td>male</td>\n",
       "      <td>26.0</td>\n",
       "      <td>0</td>\n",
       "      <td>0</td>\n",
       "      <td>111369</td>\n",
       "      <td>30.0000</td>\n",
       "      <td>C148</td>\n",
       "      <td>C</td>\n",
       "    </tr>\n",
       "    <tr>\n",
       "      <th>890</th>\n",
       "      <td>891</td>\n",
       "      <td>0</td>\n",
       "      <td>3</td>\n",
       "      <td>Dooley, Mr. Patrick</td>\n",
       "      <td>male</td>\n",
       "      <td>32.0</td>\n",
       "      <td>0</td>\n",
       "      <td>0</td>\n",
       "      <td>370376</td>\n",
       "      <td>7.7500</td>\n",
       "      <td>NaN</td>\n",
       "      <td>Q</td>\n",
       "    </tr>\n",
       "  </tbody>\n",
       "</table>\n",
       "<p>891 rows × 12 columns</p>\n",
       "</div>"
      ],
      "text/plain": [
       "     PassengerId  Survived  Pclass  \\\n",
       "0              1         0       3   \n",
       "1              2         1       1   \n",
       "2              3         1       3   \n",
       "3              4         1       1   \n",
       "4              5         0       3   \n",
       "..           ...       ...     ...   \n",
       "886          887         0       2   \n",
       "887          888         1       1   \n",
       "888          889         0       3   \n",
       "889          890         1       1   \n",
       "890          891         0       3   \n",
       "\n",
       "                                                  Name     Sex   Age  SibSp  \\\n",
       "0                              Braund, Mr. Owen Harris    male  22.0      1   \n",
       "1    Cumings, Mrs. John Bradley (Florence Briggs Th...  female  38.0      1   \n",
       "2                               Heikkinen, Miss. Laina  female  26.0      0   \n",
       "3         Futrelle, Mrs. Jacques Heath (Lily May Peel)  female  35.0      1   \n",
       "4                             Allen, Mr. William Henry    male  35.0      0   \n",
       "..                                                 ...     ...   ...    ...   \n",
       "886                              Montvila, Rev. Juozas    male  27.0      0   \n",
       "887                       Graham, Miss. Margaret Edith  female  19.0      0   \n",
       "888           Johnston, Miss. Catherine Helen \"Carrie\"  female   NaN      1   \n",
       "889                              Behr, Mr. Karl Howell    male  26.0      0   \n",
       "890                                Dooley, Mr. Patrick    male  32.0      0   \n",
       "\n",
       "     Parch            Ticket     Fare Cabin Embarked  \n",
       "0        0         A/5 21171   7.2500   NaN        S  \n",
       "1        0          PC 17599  71.2833   C85        C  \n",
       "2        0  STON/O2. 3101282   7.9250   NaN        S  \n",
       "3        0            113803  53.1000  C123        S  \n",
       "4        0            373450   8.0500   NaN        S  \n",
       "..     ...               ...      ...   ...      ...  \n",
       "886      0            211536  13.0000   NaN        S  \n",
       "887      0            112053  30.0000   B42        S  \n",
       "888      2        W./C. 6607  23.4500   NaN        S  \n",
       "889      0            111369  30.0000  C148        C  \n",
       "890      0            370376   7.7500   NaN        Q  \n",
       "\n",
       "[891 rows x 12 columns]"
      ]
     },
     "execution_count": 37,
     "metadata": {},
     "output_type": "execute_result"
    }
   ],
   "source": [
    "import pandas as pd\n",
    "import numpy as np\n",
    "\n",
    "df= pd.read_csv(\"Titanic_dataset.csv\")\n",
    "df"
   ]
  },
  {
   "cell_type": "code",
   "execution_count": 39,
   "id": "266013e2-1e70-4a45-aaf0-0a5264b34c80",
   "metadata": {},
   "outputs": [
    {
     "name": "stdout",
     "output_type": "stream",
     "text": [
      "Kazada olen kisilerin yas ortalamasi 30.62617924528302\n"
     ]
    }
   ],
   "source": [
    "#Kazada ölenlerin yaş ortalamasını bulunuz\n",
    "olen_kisiler= df[df[\"Survived\"]==0]\n",
    "\n",
    "yas_ort=olen_kisiler[\"Age\"].mean()\n",
    "\n",
    "print(\"Kazada olen kisilerin yas ortalamasi\",yas_ort)\n"
   ]
  },
  {
   "cell_type": "code",
   "execution_count": 45,
   "id": "04cf97fb-8f2b-421f-9aeb-80ec871af3ec",
   "metadata": {},
   "outputs": [
    {
     "name": "stdout",
     "output_type": "stream",
     "text": [
      "Kazada olenlerin bilet fiyatlarinin ortalamasi: 22.117886885245902 medyani: 10.5\n"
     ]
    }
   ],
   "source": [
    "#Kazada ölenlerin bilet fiyatlarının ortalamasını ve medyanını bulunuz\n",
    "olen_kisiler= df[df[\"Survived\"]==0]\n",
    "\n",
    "bilet_ort= olen_kisiler[\"Fare\"].mean()\n",
    "bilet_medyan= olen_kisiler[\"Fare\"].median()\n",
    "print(\"Kazada olenlerin bilet fiyatlarinin ortalamasi:\",bilet_ort,\"medyani:\",bilet_medyan)"
   ]
  },
  {
   "cell_type": "code",
   "execution_count": 59,
   "id": "704dee87-92bc-4bf2-a11d-b1d55e787093",
   "metadata": {},
   "outputs": [
    {
     "name": "stdout",
     "output_type": "stream",
     "text": [
      "Kazada ölen erkeklerin yaş ortalaması: 31.618055555555557\n"
     ]
    }
   ],
   "source": [
    "#Kazada ölen erkeklerin yaş ortalamasını bulunuz\n",
    "\n",
    "olen_erkekler= df[(df[\"Survived\"]==0) & (df[\"Sex\"]==\"male\")]\n",
    "olen_erkek_yas_ort= olen_erkekler[\"Age\"].mean()\n",
    "print(\"Kazada ölen erkeklerin yaş ortalaması:\",olen_erkek_yas_ort)"
   ]
  },
  {
   "cell_type": "code",
   "execution_count": 63,
   "id": "6f707ed0-a358-4452-82a8-daa3bc039957",
   "metadata": {},
   "outputs": [
    {
     "name": "stdout",
     "output_type": "stream",
     "text": [
      "Kazada ölen kadinlarin yaş ortalaması: 25.046875\n"
     ]
    }
   ],
   "source": [
    "#Kazada ölen kadınların yaş ortalamasını bulunuz\n",
    "\n",
    "olen_kadinlar= df[(df[\"Survived\"]==0) & (df[\"Sex\"]==\"female\")]\n",
    "olen_kadin_yas_ort= olen_kadinlar[\"Age\"].mean()\n",
    "print(\"Kazada ölen kadinlarin yaş ortalaması:\",olen_kadin_yas_ort)"
   ]
  },
  {
   "cell_type": "code",
   "execution_count": 67,
   "id": "f0151574-8410-4617-a8bd-e42f10df864d",
   "metadata": {},
   "outputs": [
    {
     "name": "stdout",
     "output_type": "stream",
     "text": [
      "Kazadan kurtulanların yaş ortalaması: 28.343689655172415\n"
     ]
    }
   ],
   "source": [
    "#Kazadan kurtulanların yaş ortalamasını bulunuz\n",
    "\n",
    "kurtulanlar= df[df[\"Survived\"]==1]\n",
    "kurt_yas_ort= kurtulanlar[\"Age\"].mean()\n",
    "print(\"Kazadan kurtulanların yaş ortalaması:\",kurt_yas_ort)"
   ]
  },
  {
   "cell_type": "code",
   "execution_count": 69,
   "id": "89956686-1873-4118-83a1-0b4c2eb46af6",
   "metadata": {},
   "outputs": [
    {
     "name": "stdout",
     "output_type": "stream",
     "text": [
      "Kazadan kurtulanların bilet fiyatlarının ortalaması: 48.39540760233918\n"
     ]
    }
   ],
   "source": [
    "#Kazadan kurtulanların bilet fiyatlarının ortalamasını bulunuz\n",
    "kurtulanlar= df[df[\"Survived\"]==1]\n",
    "kurt_bilet_ort= kurtulanlar[\"Fare\"].mean()\n",
    "print(\"Kazadan kurtulanların bilet fiyatlarının ortalaması:\",kurt_bilet_ort)"
   ]
  },
  {
   "cell_type": "code",
   "execution_count": 83,
   "id": "b33a0a75-37bd-4c7a-bb0b-a3c5ed20b9d2",
   "metadata": {},
   "outputs": [
    {
     "data": {
      "text/plain": [
       "342"
      ]
     },
     "execution_count": 83,
     "metadata": {},
     "output_type": "execute_result"
    }
   ],
   "source": [
    "#Kazadan kurtulan toplam kişi sayısını bulunuz\n",
    "\n",
    "(df[\"Survived\"]==1).sum()\n"
   ]
  },
  {
   "cell_type": "code",
   "execution_count": 75,
   "id": "4cb6efa8-8829-4c50-b11d-102529e66731",
   "metadata": {},
   "outputs": [
    {
     "name": "stdout",
     "output_type": "stream",
     "text": [
      "10 yaşından küçüklerin bilet fiyatlarının medyan değeri: 27.0\n"
     ]
    }
   ],
   "source": [
    "#10 yaşından küçüklerin bilet fiyatlarının medyan değerini bulunuz\n",
    "\n",
    "kucukler=df[df[\"Age\"]<10]\n",
    "bilet_medyan= kucukler[\"Fare\"].median()\n",
    "print(\"10 yaşından küçüklerin bilet fiyatlarının medyan değeri:\",bilet_medyan)"
   ]
  },
  {
   "cell_type": "code",
   "execution_count": 79,
   "id": "08554a5d-b70f-4f6b-8491-664072f501f9",
   "metadata": {},
   "outputs": [
    {
     "name": "stdout",
     "output_type": "stream",
     "text": [
      "1.sinif ortalama bilet fiyati: 84.1546875 medyan degeri: 60.287499999999994\n",
      "2.sinif ortalama bilet fiyati: 20.662183152173913 medyan degeri: 14.25\n",
      "3.sinif ortalama bilet fiyati: 13.675550101832993 medyan degeri: 8.05\n"
     ]
    }
   ],
   "source": [
    "#1.sınıf, 2.sınıf ve 3.sınıf bilet fiyatlarının ortalama ve medyanlarını karşılaştırınız. (Pclass değişkeni sınıfları barındırmaktadır.)\n",
    "sinif1= df[df[\"Pclass\"]==1]\n",
    "sinif2= df[df[\"Pclass\"]==2]\n",
    "sinif3= df[df[\"Pclass\"]==3]\n",
    "\n",
    "sinif1_ort= sinif1[\"Fare\"].mean()\n",
    "sinif1_medyan=sinif1[\"Fare\"].median()\n",
    "sinif2_ort=sinif2[\"Fare\"].mean()\n",
    "sinif2_medyan=sinif2[\"Fare\"].median()\n",
    "sinif3_ort=sinif3[\"Fare\"].mean()\n",
    "sinif3_medyan=sinif3[\"Fare\"].median()\n",
    "\n",
    "print(\"1.sinif ortalama bilet fiyati:\",sinif1_ort,\"medyan degeri:\",sinif1_medyan)\n",
    "print(\"2.sinif ortalama bilet fiyati:\",sinif2_ort,\"medyan degeri:\",sinif2_medyan)\n",
    "print(\"3.sinif ortalama bilet fiyati:\",sinif3_ort,\"medyan degeri:\",sinif3_medyan)\n",
    "\n",
    "#Sinif yukseldikce biletin fiyati bariz olarak artis gostermis. Ortalamalar medyan degerlerinden cok daha buyuk. Bu da ozellikle\n",
    "#1.sinif yolcularindan bazilarinin biletleri cok pahaliya aldigini gosterir. "
   ]
  },
  {
   "cell_type": "code",
   "execution_count": 101,
   "id": "4f2d514f-6cea-476d-bd09-64e01b7c0b87",
   "metadata": {},
   "outputs": [
    {
     "name": "stdout",
     "output_type": "stream",
     "text": [
      "Olen kadin orani: 0.25796178343949044 ,olen erkek orani: 0.8110918544194108\n",
      "Olen kadin yuzdelik orani: 25.796178343949045 ,olen erkek yuzdelik orani: 81.10918544194108\n"
     ]
    }
   ],
   "source": [
    "#Kazada ölen kadınların oranı ile erkeklerin oranını karşılaştırınız. \n",
    "#(Örnek: erkekler için; ölen erkeklerin, erkek sayısına bölümü bu oranı vermektedir.\n",
    "kadin_sayisi= (df[\"Sex\"]==\"female\").sum()\n",
    "erkek_sayisi= (df[\"Sex\"]==\"male\").sum()\n",
    "\n",
    "olen_kadin_sayisi= ((df[\"Sex\"]==\"female\") & (df[\"Survived\"]==0)).sum()\n",
    "olen_erkek_sayisi= ((df[\"Sex\"]==\"male\") & (df[\"Survived\"]==0)).sum()\n",
    "\n",
    "olen_kadin_orani= olen_kadin_sayisi/kadin_sayisi\n",
    "olen_erkek_orani= olen_erkek_sayisi/erkek_sayisi\n",
    "\n",
    "print(\"Olen kadin orani:\",olen_kadin_orani,\",olen erkek orani:\",olen_erkek_orani)\n",
    "print(\"Olen kadin yuzdelik orani:\",olen_kadin_orani*100,\",olen erkek yuzdelik orani:\",olen_erkek_orani*100)\n",
    "#Sonuca baktigimizda kadinlarin kurtulma sansi erkeklere oranla 3-4 kat daha yuksek "
   ]
  },
  {
   "cell_type": "code",
   "execution_count": null,
   "id": "137cf828-6c35-4ca2-8895-06ba2e926be9",
   "metadata": {},
   "outputs": [],
   "source": []
  }
 ],
 "metadata": {
  "kernelspec": {
   "display_name": "Python [conda env:base] *",
   "language": "python",
   "name": "conda-base-py"
  },
  "language_info": {
   "codemirror_mode": {
    "name": "ipython",
    "version": 3
   },
   "file_extension": ".py",
   "mimetype": "text/x-python",
   "name": "python",
   "nbconvert_exporter": "python",
   "pygments_lexer": "ipython3",
   "version": "3.12.7"
  }
 },
 "nbformat": 4,
 "nbformat_minor": 5
}
